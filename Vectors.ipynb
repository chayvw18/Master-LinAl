{
  "nbformat": 4,
  "nbformat_minor": 0,
  "metadata": {
    "colab": {
      "provenance": [],
      "mount_file_id": "1FS8D5fAAkN93AAGHCNOIXm3IiNZ86Ofg",
      "authorship_tag": "ABX9TyOcSccOCQn8cwFEiHGpEn8K",
      "include_colab_link": true
    },
    "kernelspec": {
      "name": "python3",
      "display_name": "Python 3"
    },
    "language_info": {
      "name": "python"
    }
  },
  "cells": [
    {
      "cell_type": "markdown",
      "metadata": {
        "id": "view-in-github",
        "colab_type": "text"
      },
      "source": [
        "<a href=\"https://colab.research.google.com/github/chayvw18/Master-LinAl/blob/main/Vectors.ipynb\" target=\"_parent\"><img src=\"https://colab.research.google.com/assets/colab-badge.svg\" alt=\"Open In Colab\"/></a>"
      ]
    },
    {
      "cell_type": "code",
      "execution_count": 1,
      "metadata": {
        "colab": {
          "base_uri": "https://localhost:8080/"
        },
        "id": "sWCQydGjDh25",
        "outputId": "d235b3e4-8e89-4510-da0a-04fe13c1f581"
      },
      "outputs": [
        {
          "output_type": "stream",
          "name": "stdout",
          "text": [
            "/content/drive/MyDrive/LA\n"
          ]
        }
      ],
      "source": [
        "%cd /content/drive/MyDrive/LA"
      ]
    },
    {
      "cell_type": "markdown",
      "source": [
        "Algebraically a vector is an ordered list of numbers. Typically surrounded by brackets.\n",
        "<b>\n",
        "The numbers, the elements in the vectors can be real numbers or complex value numbers.\n",
        "<b>\n",
        "Each number inside the vector is called an element. The number of elements in a vector is called the dimensionality of the vector. vectors can be column or row vectors.\n",
        "\n",
        "\n",
        "\n",
        "Geometric interpretation of a vector is a straight line with some length and some direction and is specified by the numbers given in the vector.\n",
        "<b>\n",
        "It doesn’t actually matter where the vector starts. Vectors geometrically are robust to translation or rigid body motion. When vectors start at the origin they are called standard position.\n",
        "<b>\n",
        "Transposing is an operation that essentially converts a row column into a row vector"
      ],
      "metadata": {
        "id": "q8kpb-PcEgcO"
      }
    },
    {
      "cell_type": "code",
      "source": [
        "import numpy as np\n",
        "import matplotlib.pyplot as plt\n",
        "from mpl_toolkits.mplot3d import Axes3D"
      ],
      "metadata": {
        "id": "IMO-xqxBGGHr"
      },
      "execution_count": 2,
      "outputs": []
    },
    {
      "cell_type": "code",
      "source": [
        "#2-Dimensional vector\n",
        "v2 = [3, -2]\n",
        "\n",
        "#3 Dimensional vector\n",
        "v3 = [4, -2, 2]\n",
        "\n",
        "#row to column(or vice versa)\n",
        "v3t = np.transpose(v3)\n",
        "\n",
        "#plot them\n",
        "plt.plot([0, v2[0]], [0,v2[1]])\n",
        "plt.axis('equal')\n",
        "#make the plot nicer\n",
        "plt.plot([-4,4], [0,0], 'k--')\n",
        "plt.plot([0,0], [-4,4], 'k--')\n",
        "plt.grid()\n",
        "plt.axis((-4,4,-4,4))\n",
        "\n",
        "plt.show();"
      ],
      "metadata": {
        "colab": {
          "base_uri": "https://localhost:8080/",
          "height": 453
        },
        "id": "jBBuarb-GO71",
        "outputId": "6000b84a-11d4-4e0a-ac8b-4a5ffda193e8"
      },
      "execution_count": 3,
      "outputs": [
        {
          "output_type": "stream",
          "name": "stderr",
          "text": [
            "WARNING:matplotlib.axes._base:Ignoring fixed x limits to fulfill fixed data aspect with adjustable data limits.\n"
          ]
        },
        {
          "output_type": "display_data",
          "data": {
            "text/plain": [
              "<Figure size 640x480 with 1 Axes>"
            ],
            "image/png": "[encoded data removed]"
          },
          "metadata": {}
        }
      ]
    },
    {
      "cell_type": "markdown",
      "source": [
        "**Vector Addition and Subtraction:Algebra**\n",
        "<br>\n",
        "All vectors have to have the same number of elements or the same dimensionality\n",
        "<br>\n",
        "Geometrically you add two vector, you put the tail of one vector at the head of the other vector"
      ],
      "metadata": {
        "id": "Pxzm1JimEgXM"
      }
    },
    {
      "cell_type": "code",
      "source": [
        "v1 = np.array([3, -1])\n",
        "v2 = np.array([2,4])\n",
        "\n",
        "v3 = v1+v2\n",
        "\n",
        "#plot them\n",
        "plt.plot([0,v1[0]], [0,v1[1]], 'b', label='V1')\n",
        "plt.plot([0,v2[0]]+v1[0], [0,v2[1]]+v1[1], 'r', label='V2')\n",
        "plt.plot([0,v3[0]], [0,v3[1]], 'k', label='V1+V2')\n",
        "\n",
        "plt.legend()\n",
        "plt.axis('square')\n",
        "plt.axis((-6,6,-6,6))\n",
        "plt.grid()\n",
        "plt.show()"
      ],
      "metadata": {
        "colab": {
          "base_uri": "https://localhost:8080/",
          "height": 435
        },
        "id": "7aRioX_ZKhdv",
        "outputId": "a7a6cf8b-db1e-43c5-c856-184e45bbc8d1"
      },
      "execution_count": 4,
      "outputs": [
        {
          "output_type": "display_data",
          "data": {
            "text/plain": [
              "<Figure size 640x480 with 1 Axes>"
            ],
            "image/png": "[encoded data removed]"
          },
          "metadata": {}
        }
      ]
    },
    {
      "cell_type": "markdown",
      "source": [
        "**Vector-Scalar Multiplication**\n",
        "<br>\n",
        "A scalar is just a number on its own. It's not a vector or matrix.\n",
        "<br>\n",
        "Algebraically vector scaler multiplication means to multiply each element of the vector by the scaler\n",
        "<br>\n",
        "Geometrically interpretation of vector scalar multiplication is to stretch or shrink the vector but the amount specified by the scalar and it does not change the direction of the vector. When the scalar is >1 the scalaed version will be longer than the original vector.\n",
        "<br>\n",
        "Scalar between 0 and 1 it will be smaller than the original vector\n",
        "<br>\n",
        "When the scalar is < 0 the scalaed version will be in oppoiste direction than the original vector.\n",
        "<br>\n",
        "***the line is actually lying on a one dimensional subspace that goes to infinity in both direction***\n",
        "<br>\n",
        "***All the vectors that can be produced by a scaled version of one vector is called the subspace***"
      ],
      "metadata": {
        "id": "7ONdkA33Nfsk"
      }
    },
    {
      "cell_type": "code",
      "source": [
        "#Vector Scalar Multiplication\n",
        "v1 = np.array([3, -1])\n",
        "l = 2.3\n",
        "v1m = v1*l #scalar-modulated\n",
        "\n",
        "#plot\n",
        "plt.plot([0, v1[0]], [0,v1[1]], 'b', label='V1')\n",
        "plt.plot([0, v1m[0]], [0, v1m[1]], 'r:', label=r'$\\lambda v_1$')\n",
        "\n",
        "plt.legend()\n",
        "plt.axis('square')\n",
        "axlim = max([abs(max(v1)),abs(max(v1m)) ])* 1.5\n",
        "plt.axis((-axlim, axlim, -axlim, axlim))\n",
        "plt.grid()\n",
        "plt.show()"
      ],
      "metadata": {
        "colab": {
          "base_uri": "https://localhost:8080/",
          "height": 430
        },
        "id": "7AtUMJgTHV9x",
        "outputId": "c314099c-3a89-4ddf-d1d0-136ba510ee8d"
      },
      "execution_count": 5,
      "outputs": [
        {
          "output_type": "display_data",
          "data": {
            "text/plain": [
              "<Figure size 640x480 with 1 Axes>"
            ],
            "image/png": "[encoded data removed]"
          },
          "metadata": {}
        }
      ]
    },
    {
      "cell_type": "markdown",
      "source": [
        "**Vector-Vector Multiplication: The Dot Product**\n",
        "<br>\n",
        "The Dot Product is a single number that provides information about the relationship between two vectors.\n",
        "<br>\n",
        "Since the Dot Product is a single number it is often times referred to as a scalar product\n",
        "<br>\n",
        "```\n",
        "aTb the first vector transposed the second vector\n",
        "```\n",
        "The Dot Product is defined as element wise multiplication and the sum over all the corresponding elements of two vectors.\n",
        "<br>\n",
        "For computing the dot product both vectors both need the same number of elements\n",
        "<br>\n",
        "The vector dot product is distributive"
      ],
      "metadata": {
        "id": "MJyJjCUWEf8-"
      }
    },
    {
      "cell_type": "code",
      "source": [
        "## Many ways to compute the dot product\n",
        "v1 = np.array([1, 2, 3, 4, 5, 6, 7, 8])\n",
        "v2 = np.array([0, -4, -3, 6, 5, 4, 9, 6])\n",
        "\n",
        "#method one\n",
        "dp1 = sum( np.multiply(v1, v2))\n",
        "\n",
        "#method 2\n",
        "dp2 = np.dot(v1, v2)\n",
        "\n",
        "#method 3\n",
        "dp3 = np.matmul(v1, v2)\n",
        "\n",
        "#method 4\n",
        "dp4 = 0\n",
        "\n",
        "#loop over the elements\n",
        "for i in range(0, len(v1)):\n",
        "  dp4 = dp4 + v1[i]*v2[i]\n",
        "\n",
        "print(dp1, dp2, dp3, dp4)"
      ],
      "metadata": {
        "colab": {
          "base_uri": "https://localhost:8080/"
        },
        "id": "A2jr9GyONiJn",
        "outputId": "7e5f570d-d039-4edb-ec45-e73112d4c46f"
      },
      "execution_count": 6,
      "outputs": [
        {
          "output_type": "stream",
          "name": "stdout",
          "text": [
            "167 167 167 167\n"
          ]
        }
      ]
    },
    {
      "cell_type": "markdown",
      "source": [
        "**Dot Product Properties: Associative and Distributive**\n",
        "<br>\n",
        "```\n",
        "a(b+c) = ab + ac\n",
        "```\n",
        "The distributive property means that A times the quantity B + C is the same thing as A*B and A*C\n",
        "```\n",
        "aT(b+c) = aTb+aTc\n",
        "```\n",
        "The vector dot product is distributive\n",
        "<br>\n",
        "The dot product is **not** associative\n",
        "```\n",
        "a(b*c) = (a*b)c / aT(bTc) =! (aTb)Tc\n",
        "```\n",
        "*scalar multiplication is associative but the vector dot product is not*\n",
        "<br>\n",
        "*You end up with two distinct vectors multiplied by two distinct scalars*\n",
        "\n",
        "***Matrix Multiplication is associative***\n",
        "```\n",
        "A(BC) = (AB)C\n",
        "```\n"
      ],
      "metadata": {
        "id": "IvJPpCykPxFE"
      }
    },
    {
      "cell_type": "code",
      "source": [
        "## Distributive property\n",
        "\n",
        "#create random vectors\n",
        "n = 10\n",
        "a = np.random.randn(n)\n",
        "b = np.random.randn(n)\n",
        "c = np.random.randn(n)\n",
        "\n",
        "#the results\n",
        "res1 = np.dot(a, (b+c))\n",
        "res2 = np.dot(a,b) + np.dot(a,c)\n",
        "\n",
        "#compare the results\n",
        "print([res1, res2])"
      ],
      "metadata": {
        "colab": {
          "base_uri": "https://localhost:8080/"
        },
        "id": "s1b7WrFnO_C-",
        "outputId": "1cf56004-9d13-4a0d-fd15-77f80b6f9de4"
      },
      "execution_count": 7,
      "outputs": [
        {
          "output_type": "stream",
          "name": "stdout",
          "text": [
            "[np.float64(2.921718741052241), np.float64(2.9217187410522403)]\n"
          ]
        }
      ]
    },
    {
      "cell_type": "code",
      "source": [
        "#Associative\n",
        "#create random vectors\n",
        "n = 3\n",
        "a = np.random.randn(n)\n",
        "b = np.random.randn(n)\n",
        "c = np.random.randn(n)\n",
        "\n",
        "#the results\n",
        "res1 = np.dot(a, np.dot(b,c))\n",
        "res2 = np.dot(np.dot(a,b), c)\n",
        "\n",
        "#compare the results\n",
        "print(res1)\n",
        "print(res2)"
      ],
      "metadata": {
        "colab": {
          "base_uri": "https://localhost:8080/"
        },
        "id": "IAm2UmPOT4u_",
        "outputId": "1e4dbaee-1076-4256-8f97-0502a9bcbf74"
      },
      "execution_count": 8,
      "outputs": [
        {
          "output_type": "stream",
          "name": "stdout",
          "text": [
            "[-1.15411668 -1.17735469  0.9260368 ]\n",
            "[ 0.81311987 -0.90802583  1.02075538]\n"
          ]
        }
      ]
    },
    {
      "cell_type": "code",
      "source": [
        "### specail cases where the associative property works\n",
        "#1 one vector is the zeros vector\n",
        "#2 a==b==c"
      ],
      "metadata": {
        "id": "ini5QyKQUeQ_"
      },
      "execution_count": 9,
      "outputs": []
    },
    {
      "cell_type": "code",
      "source": [
        "#Dot product with matrix columns\n",
        "m = 4\n",
        "n = 6\n",
        "\n",
        "A = np.random.randn(m,n)\n",
        "B = np.random.randn(m,n)\n",
        "\n",
        "dps = np.zeros(len(A))\n",
        "\n",
        "for i in range(n):\n",
        "  dps = np.dot(A[:,i], B[:,i])\n",
        "\n",
        "print(dps)"
      ],
      "metadata": {
        "colab": {
          "base_uri": "https://localhost:8080/"
        },
        "id": "Pe3gMe7uWXGt",
        "outputId": "9db3cdfb-321e-40bf-dd8e-32db5af0b4ab"
      },
      "execution_count": 10,
      "outputs": [
        {
          "output_type": "stream",
          "name": "stdout",
          "text": [
            "1.6905059650747583\n"
          ]
        }
      ]
    },
    {
      "cell_type": "markdown",
      "source": [
        "**Vector length/ Magnitude/ Norm**\n",
        "<br>\n",
        "\n",
        "||V|| = sqrt(vTV)\n",
        "\n",
        "<br>\n",
        "The length of a vector or the magnitude is found from taking the square root of the DP with itself\n",
        "<br>\n",
        "\n",
        "Applying the pythagorean theorem is the same thing as taking the DP itself.\n",
        "<br>\n",
        "\n",
        "Same principle applies to two or more dimensions"
      ],
      "metadata": {
        "id": "jGDYSinlY-eq"
      }
    },
    {
      "cell_type": "code",
      "source": [
        "#Vector length\n",
        "v1 = np.array([1, 2, 3, 4, 5, 6, 7, 8])\n",
        "\n",
        "vl1 = np.sqrt(sum(np.multiply(v1, v1)))\n",
        "vl2 = np.linalg.norm(v1)\n",
        "\n",
        "print(vl1, vl2)"
      ],
      "metadata": {
        "colab": {
          "base_uri": "https://localhost:8080/"
        },
        "id": "sx02wFXuaGUN",
        "outputId": "2d5236b5-ff51-4d29-8a41-5675161ba4ee"
      },
      "execution_count": 11,
      "outputs": [
        {
          "output_type": "stream",
          "name": "stdout",
          "text": [
            "14.2828568570857 14.2828568570857\n"
          ]
        }
      ]
    },
    {
      "cell_type": "markdown",
      "source": [
        "**Dot Product features based on sign**\n",
        "```\n",
        "cos(0/sign) < 90 degrees cos(0/sign) > 0 then alpha > 0\n",
        "cos(0/sign) > 90 degrees cos(0/sign) < 0 then alpha < 0\n",
        "cos(0/sign) =  90 degrees cos(0/sign) = 0 then alpha = 0\n",
        "os(0/sign) = 0 degrees cos(0/sign) = 1 then alpha > |a||b|\n",
        "```\n",
        "***Orthogonal when cos(0/sign) = 90 degrees****"
      ],
      "metadata": {
        "id": "hkS45i7cbtbT"
      }
    },
    {
      "cell_type": "markdown",
      "source": [
        "**Vector Hadamard Multiplication**\n",
        "\n",
        "<br>\n",
        "also known as element wise multiplication\n",
        "<br>\n",
        "\n"
      ],
      "metadata": {
        "id": "a_RcENmLbtPg"
      }
    },
    {
      "cell_type": "code",
      "source": [
        "w1 = np.array([1,3,5])\n",
        "w2 = np.array([3,4,2])\n",
        "\n",
        "w3 = np.multiply(w1,w2) #element wise multiplication\n",
        "print(w3)"
      ],
      "metadata": {
        "colab": {
          "base_uri": "https://localhost:8080/"
        },
        "id": "roeV-rL4aeIo",
        "outputId": "8491f9c3-3668-4bfc-e919-79319f042d0d"
      },
      "execution_count": 12,
      "outputs": [
        {
          "output_type": "stream",
          "name": "stdout",
          "text": [
            "[ 3 12 10]\n"
          ]
        }
      ]
    },
    {
      "cell_type": "markdown",
      "source": [
        "**The Outer Product**\n",
        "<br>\n",
        "*Dot product: vTw and always a scalar 1X1*\n",
        "<br>\n",
        "***Outer Product vwT= NxM***\n",
        "<br>\n",
        "In contrast the outer prodcut is not a single number but instead its a matrix and it is noted by transposing the second vector and not the first vector\n",
        "<br>\n",
        "Each column in the matrix is a vector scalar multiplication by repating the columns of the left vector with each column being scaled by the corresponding elment of the right side vector\n",
        "<br>\n",
        "Another way to look at the outer product is the *row perspective* you keep the left vector as a column and the right vector you transpose to be a row vector. You build the outer product with rows with each row coming from the right side\n",
        "<br>\n",
        "the results are exactly the same just a different way to think about the operation"
      ],
      "metadata": {
        "id": "g6GFb7uMnjU8"
      }
    },
    {
      "cell_type": "code",
      "source": [
        "v1 = np.array([1, 2, 3])\n",
        "v2 = np.array([-1, 0, 1])\n",
        "\n",
        "v3op = np.outer(v1,v2)\n",
        "print(v3op)"
      ],
      "metadata": {
        "colab": {
          "base_uri": "https://localhost:8080/"
        },
        "id": "jyrLa098nQ8e",
        "outputId": "aaa9e1a4-ba52-4b08-e3ad-d692185ae9eb"
      },
      "execution_count": 13,
      "outputs": [
        {
          "output_type": "stream",
          "name": "stdout",
          "text": [
            "[[-1  0  1]\n",
            " [-2  0  2]\n",
            " [-3  0  3]]\n"
          ]
        }
      ]
    },
    {
      "cell_type": "markdown",
      "source": [
        "**Vector Cross Product**\n",
        "Defined only for two 3d vectors and will result in another 3D vector"
      ],
      "metadata": {
        "id": "InIr5Wqor_Pg"
      }
    },
    {
      "cell_type": "code",
      "source": [
        "v1 = np.array([3, 2, 3])\n",
        "v2 = np.array([4, 0, -3])\n",
        "\n",
        "v3c = np.cross(v1,v2)\n",
        "print(v3c)"
      ],
      "metadata": {
        "colab": {
          "base_uri": "https://localhost:8080/"
        },
        "id": "DhToGfrvtLxy",
        "outputId": "a73c9b74-8014-4a30-8851-db2a596dff71"
      },
      "execution_count": 14,
      "outputs": [
        {
          "output_type": "stream",
          "name": "stdout",
          "text": [
            "[-6 21 -8]\n"
          ]
        }
      ]
    },
    {
      "cell_type": "markdown",
      "source": [
        "**Interpreting and creating unit vectors**\n",
        "<br>\n",
        "Vector length is independent of vector angle or the orientation of the vector , so different vectors can have different lengths and the same orientation, so the same angle is related to each other by some scalar multiplication. *that in turns means that you can create a unit vector in the same direction as some other vector\n",
        "<br>\n",
        "The term unit in the context of a vector means that the vector has a length of one\n",
        "```\n",
        "muV s.t. ||muV|| = 1\n",
        "```\n",
        "*How do you know scalar to multiply the vector by?* You take the reciprocal of the magnitude of the vector **mu = 1/||V||**"
      ],
      "metadata": {
        "id": "EN5JObXQr_HO"
      }
    },
    {
      "cell_type": "code",
      "source": [
        "v1 = np.array([3, 2])\n",
        "mu = 1/ np.linalg.norm(v1)\n",
        "v1n = v1 * mu\n",
        "\n",
        "plt.plot([0, v1n[0]], [0, v1n[1]], 'r', label='V1-Norm', linewidth=6)\n",
        "plt.plot([0, v1[0]], [0, v1[1]], 'b', label='V1')\n",
        "\n",
        "plt.axis('square')\n",
        "plt.axis((-6, 6, -6,6))\n",
        "plt.grid()\n",
        "\n",
        "plt.legend()\n",
        "plt.show()\n"
      ],
      "metadata": {
        "colab": {
          "base_uri": "https://localhost:8080/",
          "height": 435
        },
        "id": "CjUGjXHeyFkz",
        "outputId": "5458a02e-c603-4746-b82a-767c903882f4"
      },
      "execution_count": 15,
      "outputs": [
        {
          "output_type": "display_data",
          "data": {
            "text/plain": [
              "<Figure size 640x480 with 1 Axes>"
            ],
            "image/png": "[encoded data removed]"
          },
          "metadata": {}
        }
      ]
    },
    {
      "cell_type": "markdown",
      "source": [
        "**Dimensions and Fields in Linear Algebra**\n",
        "<br>\n",
        "Dimension in linear algebra corresponds to the elements in a vector. In terms of having different features or information of some quantity.\n",
        "<br>\n",
        "Geometrically dimensions corresponds to a new geometric direction. A 1D vector defines a line and a 2D vector defines a plane.\n",
        "<br>\n",
        "A 3D vector can still correspond to a line but will have three components. That will lead into the topic of a one dimensional subspace\n",
        "<br>\n",
        "Fields A set(typically numbers) on which additiona, subtraction, multiplication, and divison are valid operations **R** *real numbers*"
      ],
      "metadata": {
        "id": "nbxLpBLEr-8-"
      }
    },
    {
      "cell_type": "markdown",
      "source": [
        "**Subspace**\n",
        "<br>\n",
        "Defined as the set of all vectors that can be created by taking linear combinations of some vector or a set of vectors *multiplication by a scalar*\n",
        "```\n",
        "v = [2, 3], 2[2, 3] = [4, 6], -3[4, 6] = [-12, 18]\n",
        "```\n",
        "Example of a vector that *is not a Subspace*\n",
        "```\n",
        "v = [2 3] =! [2 4], [0 3] [0 4]\n",
        "```\n",
        "A subspace is not limited to one vector, you can create a subspace from two vectors by considering all possible linear combinatiopns\n",
        "```\n",
        "v = [2 3] w = [0 4] , 6v-4w = [12 2]\n",
        "```\n",
        "vector  [12 2] is in the same subspace as the two vectors v and w\n",
        "<br>\n",
        "\n",
        "**Formal Definition: A vector subspace must**\n",
        "* be closed under addition and scalar multiplication , closed under means that some vector v multiplying or adding any scalad vector inside the same subspace, that combination produces a new vector that remains in the subspace\n",
        "* contain the zero vector\n",
        "<br>\n",
        "**The Geometric Interpretation**\n",
        "```\n",
        "sc[1 2 4]\n",
        "```\n",
        "The vector alone is not a subspace but if you think about all the possible linear scalaed versions of that vector and you will see they all lay on a line, an infinity long line that also includes zero, which the zero vector is the point of orgin"
      ],
      "metadata": {
        "id": "VhtVxKPu2N5p"
      }
    },
    {
      "cell_type": "markdown",
      "source": [
        "**Subset**\n",
        "<br>\n",
        "A set of points that satisfies some condition\n",
        "* Doesn’t need to include the orgin\n",
        "* Doesn’t need to be closed\n",
        "* Can have boundaries"
      ],
      "metadata": {
        "id": "lyWyXAYN2Nna"
      }
    },
    {
      "cell_type": "markdown",
      "source": [
        "**Span**\n",
        "<br>\n",
        "A span of set vectors span and the result of the spanning is the vector subsapce"
      ],
      "metadata": {
        "id": "PgwPYA6pCl2H"
      }
    },
    {
      "cell_type": "markdown",
      "source": [
        "**Linear Independence**\n",
        "\n",
        "```\n",
        "{w1, w2} = {[1 2 3][2 4 6]} w2 = 2*w1\n",
        "{v1, v2, v3} = {[0 2 5][-27 5 -37] [3 1 8]} v2 = 7*v1 - 9*v3\n",
        "Examples of linearly dependent sets\n",
        "```\n",
        "Linear dependence or independence are properties of the entire dataset\n",
        "\n",
        "```\n",
        "{w1, w2} = {[1 2 3][2 4 7]}\n",
        "{v1, v2, v3} = {[0 2 5][-27 5 -37] [3 1 9]}\n",
        "Examples of linearly independent sets\n",
        "```\n",
        "They are matrix techniques to determine whether a set of vectors is independent or not.\n",
        "<br>\n",
        "**Formal Definition of linear independence** is related to determining whether a weighted comnination of the vector in the set can form the zero vector\n",
        "<br>\n",
        "**Theorem: Maximum N independent vectors**\n",
        "<br>\n",
        "Any set of M >N vectors in ***R^N*** is *dependent*\n",
        "<br>\n",
        "Any set of M < N vectors in ***R^N*** is *independent*"
      ],
      "metadata": {
        "id": "UaEj2ld8H2oT"
      }
    },
    {
      "cell_type": "markdown",
      "source": [
        "**Basis** a set of rulers you use to describe the infromation in a matrix\n",
        "<br>\n",
        "The most common basis is the Cartesian Axis basis vectors.\n",
        "<br>\n",
        "Each basis vector has unit length and all the vectors in a set are mutually orthogonal\n",
        "<br>\n",
        "A major goal in data science is to discover the best basis set to describe data to solve problems"
      ],
      "metadata": {
        "id": "4HJABxX6NuJ3"
      }
    },
    {
      "cell_type": "code",
      "source": [],
      "metadata": {
        "id": "jxpP0txZJOV4"
      },
      "execution_count": null,
      "outputs": []
    },
    {
      "cell_type": "code",
      "source": [],
      "metadata": {
        "id": "VfsHGobrrmkL"
      },
      "execution_count": 15,
      "outputs": []
    }
  ]
}